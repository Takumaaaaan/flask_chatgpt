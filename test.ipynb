{
 "cells": [
  {
   "cell_type": "code",
   "execution_count": 3,
   "metadata": {},
   "outputs": [],
   "source": [
    "from dotenv import load_dotenv\n",
    "import os\n",
    "import deepl\n",
    "load_dotenv()\n",
    "DEEPL_API_KEY = os.environ[\"DEEPL_API_KEY\"]\n",
    "\n",
    "translator = deepl.Translator(DEEPL_API_KEY)\n",
    "\n",
    "# Translate a formal document from English to German\n",
    "input_path = \"temp/english.pdf\"\n",
    "output_path = \"temp/japanese.pdf\"\n",
    "\n",
    "try:\n",
    "    # Using translate_document_from_filepath() with file paths \n",
    "    translator.translate_document_from_filepath(\n",
    "        input_path,\n",
    "        output_path,\n",
    "        target_lang=\"JA\"\n",
    "    )\n",
    "\n",
    "    # Alternatively you can use translate_document() with file IO objects\n",
    "    # with open(input_path, \"rb\") as in_file, open(output_path, \"wb\") as out_file:\n",
    "    #     translator.translate_document(\n",
    "    #         in_file,\n",
    "    #         out_file,\n",
    "    #         target_lang=\"JA\"\n",
    "    #     )\n",
    "\n",
    "except deepl.DocumentTranslationException as error:\n",
    "    # If an error occurs during document translation after the document was\n",
    "    # already uploaded, a DocumentTranslationException is raised. The\n",
    "    # document_handle property contains the document handle that may be used to\n",
    "    # later retrieve the document from the server, or contact DeepL support.\n",
    "    doc_id = error.document_handle.id\n",
    "    doc_key = error.document_handle.key\n",
    "    print(f\"Error after uploading ${error}, id: ${doc_id} key: ${doc_key}\")\n",
    "except deepl.DeepLException as error:\n",
    "    # Errors during upload raise a DeepLException\n",
    "    print(error)"
   ]
  },
  {
   "cell_type": "code",
   "execution_count": null,
   "metadata": {},
   "outputs": [],
   "source": []
  }
 ],
 "metadata": {
  "kernelspec": {
   "display_name": "Python 3",
   "language": "python",
   "name": "python3"
  },
  "language_info": {
   "codemirror_mode": {
    "name": "ipython",
    "version": 3
   },
   "file_extension": ".py",
   "mimetype": "text/x-python",
   "name": "python",
   "nbconvert_exporter": "python",
   "pygments_lexer": "ipython3",
   "version": "3.9.13"
  },
  "orig_nbformat": 4
 },
 "nbformat": 4,
 "nbformat_minor": 2
}
